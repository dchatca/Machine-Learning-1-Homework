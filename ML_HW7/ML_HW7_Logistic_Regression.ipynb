{
 "cells": [
  {
   "cell_type": "markdown",
   "id": "f2e98868",
   "metadata": {},
   "source": [
    "# Nguyễn Ngọc Đạt 11200745"
   ]
  },
  {
   "cell_type": "code",
   "execution_count": 354,
   "id": "7e643d3b",
   "metadata": {},
   "outputs": [],
   "source": [
    "import numpy as np \n",
    "import pandas as pd \n",
    "import matplotlib.pyplot as plt \n",
    "import seaborn as sns"
   ]
  },
  {
   "cell_type": "markdown",
   "id": "bc34d0c2",
   "metadata": {},
   "source": [
    "## Dùng thuật toán gradient descent, implement thuật toán logistic regeression"
   ]
  },
  {
   "cell_type": "code",
   "execution_count": 355,
   "id": "a2e91484",
   "metadata": {},
   "outputs": [],
   "source": [
    "def sigmoid(x):\n",
    "    return 1 / (1 + np.exp(-x))"
   ]
  },
  {
   "cell_type": "code",
   "execution_count": 356,
   "id": "bcbbc261",
   "metadata": {},
   "outputs": [],
   "source": [
    "def cost_function(y_hat, y):\n",
    "    return -np.sum(y * np.log(y_hat) + (1 - y) * np.log(1 - y_hat))"
   ]
  },
  {
   "cell_type": "code",
   "execution_count": 357,
   "id": "fe46e64c",
   "metadata": {},
   "outputs": [],
   "source": [
    "def gradient(X, y_hat, y):\n",
    "    return np.dot(X.T, (y_hat - y))"
   ]
  },
  {
   "cell_type": "code",
   "execution_count": 358,
   "id": "7629ed7a",
   "metadata": {},
   "outputs": [],
   "source": [
    "def logistic_regression(X, y, w, alpha, iters):\n",
    "    cost_array = np.zeros(iters)\n",
    "    for i in range(iters):\n",
    "        # giá trị dự đoán \n",
    "        y_hat = sigmoid(np.dot(X, w))\n",
    "        cost_num = cost_function(y_hat, y)\n",
    "        cost_array[i] = cost_num\n",
    "        # gradient descent\n",
    "        gradient_val = gradient(X, y_hat, y)\n",
    "        w = w - (gradient_val * alpha)\n",
    "    return w, cost_array"
   ]
  },
  {
   "cell_type": "code",
   "execution_count": 359,
   "id": "30af5f81",
   "metadata": {},
   "outputs": [],
   "source": [
    "def plotChart(cost_num):\n",
    "    fig, ax = plt.subplots()\n",
    "    ax.plot( cost_num, 'r')\n",
    "    ax.set_xlabel('Iterations')\n",
    "    ax.set_ylabel('Cost')\n",
    "    ax.set_title('Error vs Iterations')\n",
    "    plt.style.use('fivethirtyeight')\n",
    "    plt.show()"
   ]
  },
  {
   "cell_type": "markdown",
   "id": "7c796204",
   "metadata": {},
   "source": [
    "## Chạy toán toán logistic regression implement ở ý 2 cho dataset, https://github.com/nttuan8/DL_Tutorial/blob/master/L2/dataset.csv."
   ]
  },
  {
   "cell_type": "code",
   "execution_count": 360,
   "id": "fe399f01",
   "metadata": {},
   "outputs": [],
   "source": [
    "data = pd.read_csv('dataset_logistic_regression.csv')"
   ]
  },
  {
   "cell_type": "code",
   "execution_count": 361,
   "id": "6ccef18a",
   "metadata": {},
   "outputs": [
    {
     "data": {
      "text/html": [
       "<div>\n",
       "<style scoped>\n",
       "    .dataframe tbody tr th:only-of-type {\n",
       "        vertical-align: middle;\n",
       "    }\n",
       "\n",
       "    .dataframe tbody tr th {\n",
       "        vertical-align: top;\n",
       "    }\n",
       "\n",
       "    .dataframe thead th {\n",
       "        text-align: right;\n",
       "    }\n",
       "</style>\n",
       "<table border=\"1\" class=\"dataframe\">\n",
       "  <thead>\n",
       "    <tr style=\"text-align: right;\">\n",
       "      <th></th>\n",
       "      <th>Lương</th>\n",
       "      <th>Thời gian làm việc</th>\n",
       "      <th>Cho vay</th>\n",
       "    </tr>\n",
       "  </thead>\n",
       "  <tbody>\n",
       "    <tr>\n",
       "      <th>0</th>\n",
       "      <td>10</td>\n",
       "      <td>1.00</td>\n",
       "      <td>1</td>\n",
       "    </tr>\n",
       "    <tr>\n",
       "      <th>1</th>\n",
       "      <td>5</td>\n",
       "      <td>2.00</td>\n",
       "      <td>1</td>\n",
       "    </tr>\n",
       "    <tr>\n",
       "      <th>2</th>\n",
       "      <td>6</td>\n",
       "      <td>1.80</td>\n",
       "      <td>1</td>\n",
       "    </tr>\n",
       "    <tr>\n",
       "      <th>3</th>\n",
       "      <td>7</td>\n",
       "      <td>1.00</td>\n",
       "      <td>1</td>\n",
       "    </tr>\n",
       "    <tr>\n",
       "      <th>4</th>\n",
       "      <td>8</td>\n",
       "      <td>2.00</td>\n",
       "      <td>1</td>\n",
       "    </tr>\n",
       "    <tr>\n",
       "      <th>5</th>\n",
       "      <td>9</td>\n",
       "      <td>0.50</td>\n",
       "      <td>1</td>\n",
       "    </tr>\n",
       "    <tr>\n",
       "      <th>6</th>\n",
       "      <td>4</td>\n",
       "      <td>3.00</td>\n",
       "      <td>1</td>\n",
       "    </tr>\n",
       "    <tr>\n",
       "      <th>7</th>\n",
       "      <td>5</td>\n",
       "      <td>2.50</td>\n",
       "      <td>1</td>\n",
       "    </tr>\n",
       "    <tr>\n",
       "      <th>8</th>\n",
       "      <td>8</td>\n",
       "      <td>1.00</td>\n",
       "      <td>1</td>\n",
       "    </tr>\n",
       "    <tr>\n",
       "      <th>9</th>\n",
       "      <td>4</td>\n",
       "      <td>2.50</td>\n",
       "      <td>1</td>\n",
       "    </tr>\n",
       "    <tr>\n",
       "      <th>10</th>\n",
       "      <td>8</td>\n",
       "      <td>0.10</td>\n",
       "      <td>0</td>\n",
       "    </tr>\n",
       "    <tr>\n",
       "      <th>11</th>\n",
       "      <td>7</td>\n",
       "      <td>0.15</td>\n",
       "      <td>0</td>\n",
       "    </tr>\n",
       "    <tr>\n",
       "      <th>12</th>\n",
       "      <td>4</td>\n",
       "      <td>1.00</td>\n",
       "      <td>0</td>\n",
       "    </tr>\n",
       "    <tr>\n",
       "      <th>13</th>\n",
       "      <td>5</td>\n",
       "      <td>0.80</td>\n",
       "      <td>0</td>\n",
       "    </tr>\n",
       "    <tr>\n",
       "      <th>14</th>\n",
       "      <td>7</td>\n",
       "      <td>0.30</td>\n",
       "      <td>0</td>\n",
       "    </tr>\n",
       "    <tr>\n",
       "      <th>15</th>\n",
       "      <td>4</td>\n",
       "      <td>1.00</td>\n",
       "      <td>0</td>\n",
       "    </tr>\n",
       "    <tr>\n",
       "      <th>16</th>\n",
       "      <td>5</td>\n",
       "      <td>0.50</td>\n",
       "      <td>0</td>\n",
       "    </tr>\n",
       "    <tr>\n",
       "      <th>17</th>\n",
       "      <td>6</td>\n",
       "      <td>0.30</td>\n",
       "      <td>0</td>\n",
       "    </tr>\n",
       "    <tr>\n",
       "      <th>18</th>\n",
       "      <td>7</td>\n",
       "      <td>0.20</td>\n",
       "      <td>0</td>\n",
       "    </tr>\n",
       "    <tr>\n",
       "      <th>19</th>\n",
       "      <td>8</td>\n",
       "      <td>0.15</td>\n",
       "      <td>0</td>\n",
       "    </tr>\n",
       "  </tbody>\n",
       "</table>\n",
       "</div>"
      ],
      "text/plain": [
       "    Lương  Thời gian làm việc  Cho vay\n",
       "0      10                1.00        1\n",
       "1       5                2.00        1\n",
       "2       6                1.80        1\n",
       "3       7                1.00        1\n",
       "4       8                2.00        1\n",
       "5       9                0.50        1\n",
       "6       4                3.00        1\n",
       "7       5                2.50        1\n",
       "8       8                1.00        1\n",
       "9       4                2.50        1\n",
       "10      8                0.10        0\n",
       "11      7                0.15        0\n",
       "12      4                1.00        0\n",
       "13      5                0.80        0\n",
       "14      7                0.30        0\n",
       "15      4                1.00        0\n",
       "16      5                0.50        0\n",
       "17      6                0.30        0\n",
       "18      7                0.20        0\n",
       "19      8                0.15        0"
      ]
     },
     "execution_count": 361,
     "metadata": {},
     "output_type": "execute_result"
    }
   ],
   "source": [
    "data"
   ]
  },
  {
   "cell_type": "code",
   "execution_count": 362,
   "id": "ffbccc7f",
   "metadata": {},
   "outputs": [],
   "source": [
    "X = data[['Lương', 'Thời gian làm việc']]\n",
    "y = data['Cho vay']"
   ]
  },
  {
   "cell_type": "code",
   "execution_count": 363,
   "id": "e7decd44",
   "metadata": {},
   "outputs": [],
   "source": [
    "x_cho_vay = data[data['Cho vay']==1].iloc[:,0:2]\n",
    "x_tu_choi = data[data['Cho vay']==0].iloc[:,0:2]"
   ]
  },
  {
   "cell_type": "code",
   "execution_count": 364,
   "id": "27ce3d55",
   "metadata": {},
   "outputs": [
    {
     "data": {
      "text/plain": [
       "Text(0, 0.5, 'kinh nghiệm (năm)')"
      ]
     },
     "execution_count": 364,
     "metadata": {},
     "output_type": "execute_result"
    },
    {
     "data": {
      "image/png": "[encoded data removed]",
      "text/plain": [
       "<Figure size 432x288 with 1 Axes>"
      ]
     },
     "metadata": {},
     "output_type": "display_data"
    }
   ],
   "source": [
    "plt.scatter(x_cho_vay.iloc[:,0], x_cho_vay.iloc[:,1], c='red', edgecolors='none', s=30, label='cho vay')\n",
    "plt.scatter(x_tu_choi.iloc[:,0], x_tu_choi.iloc[:,1], c='blue', edgecolors='none', s=30, label='từ chối')\n",
    "plt.legend()\n",
    "plt.xlabel('mức lương (triệu)')\n",
    "plt.ylabel('kinh nghiệm (năm)')"
   ]
  },
  {
   "cell_type": "code",
   "execution_count": 365,
   "id": "edb1ac37",
   "metadata": {},
   "outputs": [],
   "source": [
    "# Add 1 column to allow vectorized calculations\n",
    "X = np.concatenate((np.ones((X.shape[0], 1)), X), axis=1)"
   ]
  },
  {
   "cell_type": "code",
   "execution_count": 366,
   "id": "f2d3f486",
   "metadata": {},
   "outputs": [
    {
     "data": {
      "text/plain": [
       "array([0., 0., 0.])"
      ]
     },
     "execution_count": 366,
     "metadata": {},
     "output_type": "execute_result"
    }
   ],
   "source": [
    "#Initial theta values\n",
    "w = np.zeros(X.shape[1])\n",
    "w"
   ]
  },
  {
   "cell_type": "code",
   "execution_count": 367,
   "id": "1a7d1341",
   "metadata": {},
   "outputs": [],
   "source": [
    "# Define hyperparameters\n",
    "alpha = 0.01\n",
    "iterations = 1000"
   ]
  },
  {
   "cell_type": "code",
   "execution_count": 368,
   "id": "b0ec8b20",
   "metadata": {},
   "outputs": [
    {
     "name": "stdout",
     "output_type": "stream",
     "text": [
      "Initial cost value for w values [0. 0. 0.] is: 13.862943611198906\n"
     ]
    }
   ],
   "source": [
    "# Starting values\n",
    "y_hat = sigmoid(np.dot(X, w))\n",
    "print(\"Initial cost value for w values {0} is: {1}\".format(w, cost_function(y_hat,y)))"
   ]
  },
  {
   "cell_type": "code",
   "execution_count": 369,
   "id": "63912a98",
   "metadata": {},
   "outputs": [],
   "source": [
    "w, cost_num = logistic_regression(X, y, w, alpha, iterations)"
   ]
  },
  {
   "cell_type": "code",
   "execution_count": 370,
   "id": "0753945f",
   "metadata": {},
   "outputs": [
    {
     "data": {
      "text/plain": [
       "array([-7.25194944,  0.62920922,  3.64209621])"
      ]
     },
     "execution_count": 370,
     "metadata": {},
     "output_type": "execute_result"
    }
   ],
   "source": [
    "w"
   ]
  },
  {
   "cell_type": "code",
   "execution_count": 375,
   "id": "ce4890b0",
   "metadata": {},
   "outputs": [],
   "source": [
    "# cost_num"
   ]
  },
  {
   "cell_type": "code",
   "execution_count": 372,
   "id": "e3c24073",
   "metadata": {},
   "outputs": [
    {
     "name": "stdout",
     "output_type": "stream",
     "text": [
      "Final cost value for w values [-7.25194944  0.62920922  3.64209621] is: 3.066392170544475\n"
     ]
    }
   ],
   "source": [
    "y_hat = sigmoid(np.dot(X, w))\n",
    "print(\"Final cost value for w values {0} is: {1}\".format(w, cost_function(y_hat,y)))"
   ]
  },
  {
   "cell_type": "code",
   "execution_count": 373,
   "id": "cfc035b1",
   "metadata": {},
   "outputs": [
    {
     "data": {
      "image/png": "[encoded data removed]",
      "text/plain": [
       "<Figure size 432x288 with 1 Axes>"
      ]
     },
     "metadata": {},
     "output_type": "display_data"
    }
   ],
   "source": [
    "plotChart(cost_num)"
   ]
  },
  {
   "cell_type": "code",
   "execution_count": 374,
   "id": "2d9d2823",
   "metadata": {},
   "outputs": [
    {
     "data": {
      "image/png": "[encoded data removed]",
      "text/plain": [
       "<Figure size 432x288 with 1 Axes>"
      ]
     },
     "metadata": {},
     "output_type": "display_data"
    }
   ],
   "source": [
    "# visualizing decision boundary\n",
    "slope = -(w[1] / w[2])\n",
    "intercept = -(w[0] / w[2])\n",
    "\n",
    "plt.scatter(x_cho_vay.iloc[:,0], x_cho_vay.iloc[:,1], c='red', s=30, label='cho vay')\n",
    "plt.scatter(x_tu_choi.iloc[:,0], x_tu_choi.iloc[:,1], c='blue', s=30, label='từ chối')\n",
    "plt.legend()\n",
    "plt.xlabel('mức lương (triệu)')\n",
    "plt.ylabel('kinh nghiệm (năm)')\n",
    "\n",
    "x_vals = np.array(ax.get_xlim())\n",
    "y_vals = intercept + (slope * x_vals)\n",
    "plt.plot(x_vals, y_vals, c=\"k\");"
   ]
  },
  {
   "cell_type": "code",
   "execution_count": null,
   "id": "79075180",
   "metadata": {},
   "outputs": [],
   "source": []
  }
 ],
 "metadata": {
  "kernelspec": {
   "display_name": "Python 3",
   "language": "python",
   "name": "python3"
  },
  "language_info": {
   "codemirror_mode": {
    "name": "ipython",
    "version": 3
   },
   "file_extension": ".py",
   "mimetype": "text/x-python",
   "name": "python",
   "nbconvert_exporter": "python",
   "pygments_lexer": "ipython3",
   "version": "3.8.8"
  }
 },
 "nbformat": 4,
 "nbformat_minor": 5
}
